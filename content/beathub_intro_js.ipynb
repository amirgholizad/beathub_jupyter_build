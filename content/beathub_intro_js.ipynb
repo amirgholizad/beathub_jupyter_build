{
 "cells": [
  {
   "cell_type": "markdown",
   "id": "fd55b8b4",
   "metadata": {},
   "source": [
    "# Welcome to BeatHub!\n",
    "\n",
    "#### Please follow the steps below to properly create your indicator:\n"
   ]
  },
  {
   "cell_type": "markdown",
   "id": "622ffc2a",
   "metadata": {},
   "source": [
    "### 1. Create your indicator\n",
    "\n",
    "* Pay attention that your tool must satisfy the following requirements:\n",
    "\n",
    "    1. Your tool must be placed inside a `class` named `Tool`.\n",
    "    1. The `class Tool` must have an attribute called `indicator`, which recieves `bar` data and optional `args` and for every window, it outputs an object with shape:\n",
    "        \n",
    "        `{\"time\": , \"value\": }` \n",
    "\n",
    "* You may create your tool below using the boilerplate code provided:"
   ]
  },
  {
   "cell_type": "code",
   "execution_count": null,
   "id": "4a5f14a6",
   "metadata": {},
   "outputs": [],
   "source": [
    "class Tool {\n",
    "  constructor(...args) {\n",
    "    this.args = args;\n",
    "  }\n",
    "\n",
    "  indicator(bars) {\n",
    "    const [period = 14] = this.args;\n",
    "    return bars.map(bar => ({\n",
    "      time: bar.time,\n",
    "      value: bar.close * period,\n",
    "    }));\n",
    "  }\n",
    "};\n",
    "\n",
    "console.log((new Tool(period = 2)).indicator(bars)); "
   ]
  },
  {
   "cell_type": "markdown",
   "id": "0d84e870",
   "metadata": {},
   "source": [
    "### 2. Test your indicator\n",
    "\n",
    "* To test your code you can use the sample data below:\n"
   ]
  },
  {
   "cell_type": "code",
   "execution_count": null,
   "id": "a90f628e",
   "metadata": {},
   "outputs": [],
   "source": []
  },
  {
   "cell_type": "markdown",
   "id": "720ed305",
   "metadata": {},
   "source": [
    "* After you are satisfied with the functionality of your "
   ]
  }
 ],
 "metadata": {
  "kernelspec": {
   "display_name": "JavaScript (Node.js)",
   "language": "javascript",
   "name": "javascript"
  },
  "language_info": {
   "file_extension": ".js",
   "mimetype": "application/javascript",
   "name": "javascript",
   "version": "20.17.0"
  }
 },
 "nbformat": 4,
 "nbformat_minor": 5
}
