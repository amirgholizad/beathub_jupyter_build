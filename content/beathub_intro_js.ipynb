{
 "cells": [
  {
   "cell_type": "markdown",
   "id": "fd55b8b4",
   "metadata": {},
   "source": [
    "# Welcome to BeatHub!\n",
    "\n",
    "#### Please follow the steps below to properly create and save your indicator.\n"
   ]
  },
  {
   "cell_type": "markdown",
   "id": "622ffc2a",
   "metadata": {},
   "source": [
    "### 1. Create your indicator\n",
    "\n",
    "* Your tool must satisfy the following requirements:\n",
    "\n",
    "    1. Your tool must be placed inside a `class` named `Tool`.\n",
    "    1. The `class Tool` must have an attribute called `indicator`, which recieves `bar` data and optional `args` and for every window, it outputs an object with shape:\n",
    "        \n",
    "        `{\"time\": , \"value\": }` \n",
    "\n",
    "* You may create your tool below using the boilerplate code provided:"
   ]
  },
  {
   "cell_type": "code",
   "execution_count": 1,
   "id": "4a5f14a6",
   "metadata": {},
   "outputs": [],
   "source": [
    "class Tool {\n",
    "  constructor(...args) {\n",
    "    this.args = args;\n",
    "  }\n",
    "\n",
    "  indicator(bars) {\n",
    "    const [period = 14] = this.args;\n",
    "\n",
    "    return bars.map((bar, index) => {\n",
    "      if (index < period - 1) {\n",
    "        return { time: bar.time, value: null }; // Not enough data yet\n",
    "      }\n",
    "\n",
    "      const slice = bars.slice(index - period + 1, index + 1);\n",
    "      const sum = slice.reduce((acc, b) => acc + b.close, 0);\n",
    "      const avg = sum / period;\n",
    "\n",
    "      return { time: bar.time, value: avg };\n",
    "    });\n",
    "  }\n",
    "}\n"
   ]
  },
  {
   "cell_type": "markdown",
   "id": "0d84e870",
   "metadata": {},
   "source": [
    "### 2. Test\n",
    "\n",
    "* To test your code you can use the sample data below:\n"
   ]
  },
  {
   "cell_type": "code",
   "execution_count": 2,
   "id": "a90f628e",
   "metadata": {},
   "outputs": [
    {
     "name": "stdout",
     "output_type": "stream",
     "text": [
      "[\n",
      "  { time: 1625097600000, value: null },\n",
      "  { time: 1625184000000, value: null },\n",
      "  { time: 1625270400000, value: null },\n",
      "  { time: 1625356800000, value: null },\n",
      "  { time: 1625443200000, value: 106.6 },\n",
      "  { time: 1625529600000, value: 108.8 },\n",
      "  { time: 1625616000000, value: 111.2 },\n",
      "  { time: 1625702400000, value: 113.6 },\n",
      "  { time: 1625788800000, value: 116 },\n",
      "  { time: 1625875200000, value: 118.6 }\n",
      "]\n"
     ]
    }
   ],
   "source": [
    " const bars = [\n",
    "      { open: 100, low: 95, high: 105, close: 102, time: 1625097600000 },\n",
    "      { open: 102, low: 98, high: 106, close: 104, time: 1625184000000 },\n",
    "      { open: 104, low: 101, high: 108, close: 107, time: 1625270400000 },\n",
    "      { open: 107, low: 103, high: 110, close: 109, time: 1625356800000 },\n",
    "      { open: 109, low: 105, high: 112, close: 111, time: 1625443200000 },\n",
    "      { open: 111, low: 108, high: 115, close: 113, time: 1625529600000 },\n",
    "      { open: 113, low: 110, high: 117, close: 116, time: 1625616000000 },\n",
    "      { open: 116, low: 112, high: 120, close: 119, time: 1625702400000 },\n",
    "      { open: 119, low: 115, high: 123, close: 121, time: 1625788800000 },\n",
    "      { open: 121, low: 117, high: 125, close: 124, time: 1625875200000 }\n",
    "    ];\n",
    "\n",
    "\n",
    "console.log((new Tool(period = 5)).indicator(bars)); "
   ]
  },
  {
   "cell_type": "markdown",
   "id": "720ed305",
   "metadata": {},
   "source": [
    "### 3. Save\n",
    "\n",
    "* After you are satisfied with the functionality of your tool, create a `.js` file, add the `Tool` class and save it."
   ]
  },
  {
   "cell_type": "markdown",
   "id": "e28bcc45",
   "metadata": {},
   "source": [
    "### 4. Add to chart\n",
    "\n",
    "* Use the \"Add to chart\" button to test your indicator with real data and examine it on the chart.\n"
   ]
  }
 ],
 "metadata": {
  "kernelspec": {
   "display_name": "JavaScript (Node.js)",
   "language": "javascript",
   "name": "javascript"
  },
  "language_info": {
   "file_extension": ".js",
   "mimetype": "application/javascript",
   "name": "javascript",
   "version": "20.17.0"
  }
 },
 "nbformat": 4,
 "nbformat_minor": 5
}
